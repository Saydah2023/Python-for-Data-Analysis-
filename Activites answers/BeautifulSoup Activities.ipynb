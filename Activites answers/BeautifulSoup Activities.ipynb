{
 "cells": [
  {
   "cell_type": "markdown",
   "metadata": {
    "id": "g5DxWENgW9nA"
   },
   "source": [
    "# Beautiful Soup Activities Group 1"
   ]
  },
  {
   "cell_type": "code",
   "execution_count": null,
   "metadata": {},
   "outputs": [],
   "source": [
    "\n",
    "#3.\tWrite a Python program to extract the text in the first paragraph tag of a given html document.\n",
    "#4.\tWrite a Python program to extract all the URLs from the webpage python.org that are nested within <li> tags from\n",
    "#5.\tWrite a Python program to extract all the text from a given web page.\n",
    "#6.\tWrite a Python program to retrieve the HTML code of the title, its text, and the HTML code of its parent.\n",
    "#7.\tWrite a Python program to create a Beautiful Soup parse tree into a nicely formatted Unicode string, with a separate line for each HTML/XML tag and string.\n",
    "#8.\tWrite a Python program to remove the contents of a tag in a given html document.\n",
    "#9.\tWrite a Python program to wrap an element in the specified tag and create the new wrapper.\n",
    "#10.\tWrite a Python program to remove a tag from a given tree of html document and destroy it and its contents.\n"
   ]
  },
  {
   "cell_type": "code",
   "execution_count": 3,
   "metadata": {},
   "outputs": [],
   "source": [
    "# Improting libraries\n",
    "\n",
    "from bs4 import BeautifulSoup"
   ]
  },
  {
   "cell_type": "markdown",
   "metadata": {
    "id": "fkDGIR_Tvquz"
   },
   "source": [
    "# 1. Write a Python program to find the title tags from a given html document."
   ]
  },
  {
   "cell_type": "code",
   "execution_count": 12,
   "metadata": {},
   "outputs": [],
   "source": [
    "with open('./BeautifulSoup.html', 'r') as file:\n",
    "    data = file.read()\n",
    "soup = BeautifulSoup(data, 'html.parser')"
   ]
  },
  {
   "cell_type": "code",
   "execution_count": 11,
   "metadata": {},
   "outputs": [
    {
     "name": "stdout",
     "output_type": "stream",
     "text": [
      "Title tag content: An example of HTML page\n"
     ]
    }
   ],
   "source": [
    "title_tags = soup.find_all('title')\n",
    "\n",
    "# Printing only text content from the tag\n",
    "for title_tag in title_tags:\n",
    "    text_content = title_tag.text.strip()\n",
    "    print(f\"Title tag content: {text_content}\")"
   ]
  },
  {
   "cell_type": "markdown",
   "metadata": {},
   "source": [
    "# 2. Write a Python program to get the number of paragraph tags of a given html document."
   ]
  },
  {
   "cell_type": "code",
   "execution_count": null,
   "metadata": {},
   "outputs": [],
   "source": []
  }
 ],
 "metadata": {
  "colab": {
   "provenance": []
  },
  "kernelspec": {
   "display_name": "Python 3",
   "language": "python",
   "name": "python3"
  },
  "language_info": {
   "codemirror_mode": {
    "name": "ipython",
    "version": 3
   },
   "file_extension": ".py",
   "mimetype": "text/x-python",
   "name": "python",
   "nbconvert_exporter": "python",
   "pygments_lexer": "ipython3",
   "version": "3.8.5"
  }
 },
 "nbformat": 4,
 "nbformat_minor": 1
}
